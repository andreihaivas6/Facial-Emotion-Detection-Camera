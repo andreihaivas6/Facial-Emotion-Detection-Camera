{
 "nbformat": 4,
 "nbformat_minor": 0,
 "metadata": {
  "colab": {
   "provenance": [],
   "gpuType": "T4"
  },
  "kernelspec": {
   "name": "python3",
   "display_name": "Python 3"
  },
  "language_info": {
   "name": "python"
  },
  "accelerator": "GPU"
 },
 "cells": [
  {
   "cell_type": "markdown",
   "source": [
    "# Facial Emotion Recognition - Project"
   ],
   "metadata": {
    "id": "asmHAbZSa1Cl"
   }
  },
  {
   "cell_type": "markdown",
   "source": [
    "## Import Modules"
   ],
   "metadata": {
    "id": "duVvtgy7v8Se"
   }
  },
  {
   "cell_type": "code",
   "source": [
    "# https://www.youtube.com/watch?v=mj-3vzJ4ZVw&ab_channel=HackersRealm\n",
    "import os\n",
    "import zipfile\n",
    "\n",
    "import pandas as pd\n",
    "import numpy as np\n",
    "\n",
    "import matplotlib.pyplot as plt\n",
    "import random\n",
    "from tqdm.notebook import tqdm\n",
    "# import warnings\n",
    "# warnings.filterwarnings('ignore')\n",
    "# %matplotlib inline\n",
    "\n",
    "import tensorflow as tf\n",
    "from tensorflow.keras.utils import to_categorical\n",
    "from tensorflow.keras.preprocessing.image import load_img\n",
    "from sklearn.preprocessing import LabelEncoder\n",
    "from tensorflow.keras.models import Sequential\n",
    "from tensorflow.keras.layers import Dense, Conv2D, Dropout, Flatten, MaxPooling2D\n",
    "\n",
    "from collections import Counter\n",
    "from PIL import Image\n",
    "from google.colab import files\n",
    "from google.colab import drive"
   ],
   "metadata": {
    "id": "GjqYgvA4v9qE"
   },
   "execution_count": 20,
   "outputs": []
  },
  {
   "cell_type": "markdown",
   "source": [
    "## Load the Dataset"
   ],
   "metadata": {
    "id": "cH1d19YpwA6P"
   }
  },
  {
   "cell_type": "code",
   "source": [
    "drive.mount('/content/drive')"
   ],
   "metadata": {
    "id": "1Jcsg6Qia3Is",
    "colab": {
     "base_uri": "https://localhost:8080/"
    },
    "outputId": "124f9cfc-b204-4298-ed9b-a60dc3f7b903"
   },
   "execution_count": 3,
   "outputs": [
    {
     "output_type": "stream",
     "name": "stdout",
     "text": [
      "Mounted at /content/drive\n"
     ]
    }
   ]
  },
  {
   "cell_type": "code",
   "source": [
    "ZIP_DATASET_PATH = '/content/drive/MyDrive/Colab Notebooks/Project/dataset/archive.zip'\n",
    "\n",
    "DATASET_PATH = '/dataset'\n",
    "TRAIN_DATASET_PATH = '/dataset/train/train'\n",
    "TEST_DATASET_PATH = '/dataset/test/test'\n",
    "\n",
    "MODEL_OUTPUT_PATH = '/content/drive/MyDrive/Colab Notebooks/Project/model.h5'"
   ],
   "metadata": {
    "id": "SSBxghFDwCBD"
   },
   "execution_count": 21,
   "outputs": []
  },
  {
   "cell_type": "code",
   "source": [
    "with zipfile.ZipFile(ZIP_DATASET_PATH, 'r') as zip_ref:\n",
    "    zip_ref.extractall(DATASET_PATH)"
   ],
   "metadata": {
    "id": "gBnnCdlbwDjg"
   },
   "execution_count": 22,
   "outputs": []
  },
  {
   "cell_type": "code",
   "source": [
    "print(os.listdir(TRAIN_DATASET_PATH))"
   ],
   "metadata": {
    "colab": {
     "base_uri": "https://localhost:8080/"
    },
    "id": "iCaqEWlEwFkz",
    "outputId": "7dc4cc85-d48f-4706-ee1a-90b1df352c08"
   },
   "execution_count": 23,
   "outputs": [
    {
     "output_type": "stream",
     "name": "stdout",
     "text": [
      "['sad', 'disgust', 'happy', 'surprise', 'neutral', 'fear', 'angry']\n"
     ]
    }
   ]
  },
  {
   "cell_type": "code",
   "source": [
    "def load_dataset(directory):\n",
    "    images = list()\n",
    "    labels = list()\n",
    "\n",
    "    for label in os.listdir(directory):\n",
    "        emotion_path = os.path.join(directory, label)\n",
    "        for filename in os.listdir(emotion_path):\n",
    "            image_path = os.path.join(emotion_path, filename)\n",
    "\n",
    "            images.append(image_path)\n",
    "            labels.append(label)\n",
    "\n",
    "    return images, labels"
   ],
   "metadata": {
    "id": "5XqIXIQawGhp"
   },
   "execution_count": 24,
   "outputs": []
  },
  {
   "cell_type": "code",
   "source": [
    "train = pd.DataFrame()\n",
    "test = pd.DataFrame()\n",
    "\n",
    "train['image'], train['label'] = load_dataset(TRAIN_DATASET_PATH)\n",
    "train = train.sample(frac=1).reset_index(drop=True)\n",
    "\n",
    "test['image'], test['label'] = load_dataset(TEST_DATASET_PATH)"
   ],
   "metadata": {
    "id": "qG2OFkYhwMZ_"
   },
   "execution_count": 25,
   "outputs": []
  },
  {
   "cell_type": "code",
   "source": [
    "train.head()"
   ],
   "metadata": {
    "colab": {
     "base_uri": "https://localhost:8080/",
     "height": 206
    },
    "id": "-ncQZu-vwNg0",
    "outputId": "7e6eae60-867a-42fd-ced0-54430f146071"
   },
   "execution_count": 26,
   "outputs": [
    {
     "output_type": "execute_result",
     "data": {
      "text/plain": [
       "                                               image     label\n",
       "0  /dataset/train/train/neutral/Training_53590006...   neutral\n",
       "1   /dataset/train/train/happy/Training_31440821.jpg     happy\n",
       "2   /dataset/train/train/happy/Training_69896351.jpg     happy\n",
       "3     /dataset/train/train/sad/Training_20786330.jpg       sad\n",
       "4  /dataset/train/train/surprise/Training_9516359...  surprise"
      ],
      "text/html": [
       "\n",
       "  <div id=\"df-ed8bfc5b-36af-46d0-88d7-02e079e22aee\">\n",
       "    <div class=\"colab-df-container\">\n",
       "      <div>\n",
       "<style scoped>\n",
       "    .dataframe tbody tr th:only-of-type {\n",
       "        vertical-align: middle;\n",
       "    }\n",
       "\n",
       "    .dataframe tbody tr th {\n",
       "        vertical-align: top;\n",
       "    }\n",
       "\n",
       "    .dataframe thead th {\n",
       "        text-align: right;\n",
       "    }\n",
       "</style>\n",
       "<table border=\"1\" class=\"dataframe\">\n",
       "  <thead>\n",
       "    <tr style=\"text-align: right;\">\n",
       "      <th></th>\n",
       "      <th>image</th>\n",
       "      <th>label</th>\n",
       "    </tr>\n",
       "  </thead>\n",
       "  <tbody>\n",
       "    <tr>\n",
       "      <th>0</th>\n",
       "      <td>/dataset/train/train/neutral/Training_53590006...</td>\n",
       "      <td>neutral</td>\n",
       "    </tr>\n",
       "    <tr>\n",
       "      <th>1</th>\n",
       "      <td>/dataset/train/train/happy/Training_31440821.jpg</td>\n",
       "      <td>happy</td>\n",
       "    </tr>\n",
       "    <tr>\n",
       "      <th>2</th>\n",
       "      <td>/dataset/train/train/happy/Training_69896351.jpg</td>\n",
       "      <td>happy</td>\n",
       "    </tr>\n",
       "    <tr>\n",
       "      <th>3</th>\n",
       "      <td>/dataset/train/train/sad/Training_20786330.jpg</td>\n",
       "      <td>sad</td>\n",
       "    </tr>\n",
       "    <tr>\n",
       "      <th>4</th>\n",
       "      <td>/dataset/train/train/surprise/Training_9516359...</td>\n",
       "      <td>surprise</td>\n",
       "    </tr>\n",
       "  </tbody>\n",
       "</table>\n",
       "</div>\n",
       "      <button class=\"colab-df-convert\" onclick=\"convertToInteractive('df-ed8bfc5b-36af-46d0-88d7-02e079e22aee')\"\n",
       "              title=\"Convert this dataframe to an interactive table.\"\n",
       "              style=\"display:none;\">\n",
       "        \n",
       "  <svg xmlns=\"http://www.w3.org/2000/svg\" height=\"24px\"viewBox=\"0 0 24 24\"\n",
       "       width=\"24px\">\n",
       "    <path d=\"M0 0h24v24H0V0z\" fill=\"none\"/>\n",
       "    <path d=\"M18.56 5.44l.94 2.06.94-2.06 2.06-.94-2.06-.94-.94-2.06-.94 2.06-2.06.94zm-11 1L8.5 8.5l.94-2.06 2.06-.94-2.06-.94L8.5 2.5l-.94 2.06-2.06.94zm10 10l.94 2.06.94-2.06 2.06-.94-2.06-.94-.94-2.06-.94 2.06-2.06.94z\"/><path d=\"M17.41 7.96l-1.37-1.37c-.4-.4-.92-.59-1.43-.59-.52 0-1.04.2-1.43.59L10.3 9.45l-7.72 7.72c-.78.78-.78 2.05 0 2.83L4 21.41c.39.39.9.59 1.41.59.51 0 1.02-.2 1.41-.59l7.78-7.78 2.81-2.81c.8-.78.8-2.07 0-2.86zM5.41 20L4 18.59l7.72-7.72 1.47 1.35L5.41 20z\"/>\n",
       "  </svg>\n",
       "      </button>\n",
       "      \n",
       "  <style>\n",
       "    .colab-df-container {\n",
       "      display:flex;\n",
       "      flex-wrap:wrap;\n",
       "      gap: 12px;\n",
       "    }\n",
       "\n",
       "    .colab-df-convert {\n",
       "      background-color: #E8F0FE;\n",
       "      border: none;\n",
       "      border-radius: 50%;\n",
       "      cursor: pointer;\n",
       "      display: none;\n",
       "      fill: #1967D2;\n",
       "      height: 32px;\n",
       "      padding: 0 0 0 0;\n",
       "      width: 32px;\n",
       "    }\n",
       "\n",
       "    .colab-df-convert:hover {\n",
       "      background-color: #E2EBFA;\n",
       "      box-shadow: 0px 1px 2px rgba(60, 64, 67, 0.3), 0px 1px 3px 1px rgba(60, 64, 67, 0.15);\n",
       "      fill: #174EA6;\n",
       "    }\n",
       "\n",
       "    [theme=dark] .colab-df-convert {\n",
       "      background-color: #3B4455;\n",
       "      fill: #D2E3FC;\n",
       "    }\n",
       "\n",
       "    [theme=dark] .colab-df-convert:hover {\n",
       "      background-color: #434B5C;\n",
       "      box-shadow: 0px 1px 3px 1px rgba(0, 0, 0, 0.15);\n",
       "      filter: drop-shadow(0px 1px 2px rgba(0, 0, 0, 0.3));\n",
       "      fill: #FFFFFF;\n",
       "    }\n",
       "  </style>\n",
       "\n",
       "      <script>\n",
       "        const buttonEl =\n",
       "          document.querySelector('#df-ed8bfc5b-36af-46d0-88d7-02e079e22aee button.colab-df-convert');\n",
       "        buttonEl.style.display =\n",
       "          google.colab.kernel.accessAllowed ? 'block' : 'none';\n",
       "\n",
       "        async function convertToInteractive(key) {\n",
       "          const element = document.querySelector('#df-ed8bfc5b-36af-46d0-88d7-02e079e22aee');\n",
       "          const dataTable =\n",
       "            await google.colab.kernel.invokeFunction('convertToInteractive',\n",
       "                                                     [key], {});\n",
       "          if (!dataTable) return;\n",
       "\n",
       "          const docLinkHtml = 'Like what you see? Visit the ' +\n",
       "            '<a target=\"_blank\" href=https://colab.research.google.com/notebooks/data_table.ipynb>data table notebook</a>'\n",
       "            + ' to learn more about interactive tables.';\n",
       "          element.innerHTML = '';\n",
       "          dataTable['output_type'] = 'display_data';\n",
       "          await google.colab.output.renderOutput(dataTable, element);\n",
       "          const docLink = document.createElement('div');\n",
       "          docLink.innerHTML = docLinkHtml;\n",
       "          element.appendChild(docLink);\n",
       "        }\n",
       "      </script>\n",
       "    </div>\n",
       "  </div>\n",
       "  "
      ]
     },
     "metadata": {},
     "execution_count": 26
    }
   ]
  },
  {
   "cell_type": "code",
   "source": [
    "test.head()"
   ],
   "metadata": {
    "colab": {
     "base_uri": "https://localhost:8080/",
     "height": 206
    },
    "id": "S-gzf3GEwOcF",
    "outputId": "6439c6b3-6d30-40d0-de2e-5518b0626e2f"
   },
   "execution_count": null,
   "outputs": [
    {
     "output_type": "execute_result",
     "data": {
      "text/plain": [
       "                                             image label\n",
       "0   /dataset/test/test/sad/PublicTest_99116679.jpg   sad\n",
       "1  /dataset/test/test/sad/PrivateTest_47084428.jpg   sad\n",
       "2   /dataset/test/test/sad/PublicTest_20224413.jpg   sad\n",
       "3   /dataset/test/test/sad/PublicTest_62517424.jpg   sad\n",
       "4  /dataset/test/test/sad/PrivateTest_45035815.jpg   sad"
      ],
      "text/html": [
       "\n",
       "  <div id=\"df-3f3e3799-7deb-4d5e-ba02-194da8323ac7\">\n",
       "    <div class=\"colab-df-container\">\n",
       "      <div>\n",
       "<style scoped>\n",
       "    .dataframe tbody tr th:only-of-type {\n",
       "        vertical-align: middle;\n",
       "    }\n",
       "\n",
       "    .dataframe tbody tr th {\n",
       "        vertical-align: top;\n",
       "    }\n",
       "\n",
       "    .dataframe thead th {\n",
       "        text-align: right;\n",
       "    }\n",
       "</style>\n",
       "<table border=\"1\" class=\"dataframe\">\n",
       "  <thead>\n",
       "    <tr style=\"text-align: right;\">\n",
       "      <th></th>\n",
       "      <th>image</th>\n",
       "      <th>label</th>\n",
       "    </tr>\n",
       "  </thead>\n",
       "  <tbody>\n",
       "    <tr>\n",
       "      <th>0</th>\n",
       "      <td>/dataset/test/test/sad/PublicTest_99116679.jpg</td>\n",
       "      <td>sad</td>\n",
       "    </tr>\n",
       "    <tr>\n",
       "      <th>1</th>\n",
       "      <td>/dataset/test/test/sad/PrivateTest_47084428.jpg</td>\n",
       "      <td>sad</td>\n",
       "    </tr>\n",
       "    <tr>\n",
       "      <th>2</th>\n",
       "      <td>/dataset/test/test/sad/PublicTest_20224413.jpg</td>\n",
       "      <td>sad</td>\n",
       "    </tr>\n",
       "    <tr>\n",
       "      <th>3</th>\n",
       "      <td>/dataset/test/test/sad/PublicTest_62517424.jpg</td>\n",
       "      <td>sad</td>\n",
       "    </tr>\n",
       "    <tr>\n",
       "      <th>4</th>\n",
       "      <td>/dataset/test/test/sad/PrivateTest_45035815.jpg</td>\n",
       "      <td>sad</td>\n",
       "    </tr>\n",
       "  </tbody>\n",
       "</table>\n",
       "</div>\n",
       "      <button class=\"colab-df-convert\" onclick=\"convertToInteractive('df-3f3e3799-7deb-4d5e-ba02-194da8323ac7')\"\n",
       "              title=\"Convert this dataframe to an interactive table.\"\n",
       "              style=\"display:none;\">\n",
       "        \n",
       "  <svg xmlns=\"http://www.w3.org/2000/svg\" height=\"24px\"viewBox=\"0 0 24 24\"\n",
       "       width=\"24px\">\n",
       "    <path d=\"M0 0h24v24H0V0z\" fill=\"none\"/>\n",
       "    <path d=\"M18.56 5.44l.94 2.06.94-2.06 2.06-.94-2.06-.94-.94-2.06-.94 2.06-2.06.94zm-11 1L8.5 8.5l.94-2.06 2.06-.94-2.06-.94L8.5 2.5l-.94 2.06-2.06.94zm10 10l.94 2.06.94-2.06 2.06-.94-2.06-.94-.94-2.06-.94 2.06-2.06.94z\"/><path d=\"M17.41 7.96l-1.37-1.37c-.4-.4-.92-.59-1.43-.59-.52 0-1.04.2-1.43.59L10.3 9.45l-7.72 7.72c-.78.78-.78 2.05 0 2.83L4 21.41c.39.39.9.59 1.41.59.51 0 1.02-.2 1.41-.59l7.78-7.78 2.81-2.81c.8-.78.8-2.07 0-2.86zM5.41 20L4 18.59l7.72-7.72 1.47 1.35L5.41 20z\"/>\n",
       "  </svg>\n",
       "      </button>\n",
       "      \n",
       "  <style>\n",
       "    .colab-df-container {\n",
       "      display:flex;\n",
       "      flex-wrap:wrap;\n",
       "      gap: 12px;\n",
       "    }\n",
       "\n",
       "    .colab-df-convert {\n",
       "      background-color: #E8F0FE;\n",
       "      border: none;\n",
       "      border-radius: 50%;\n",
       "      cursor: pointer;\n",
       "      display: none;\n",
       "      fill: #1967D2;\n",
       "      height: 32px;\n",
       "      padding: 0 0 0 0;\n",
       "      width: 32px;\n",
       "    }\n",
       "\n",
       "    .colab-df-convert:hover {\n",
       "      background-color: #E2EBFA;\n",
       "      box-shadow: 0px 1px 2px rgba(60, 64, 67, 0.3), 0px 1px 3px 1px rgba(60, 64, 67, 0.15);\n",
       "      fill: #174EA6;\n",
       "    }\n",
       "\n",
       "    [theme=dark] .colab-df-convert {\n",
       "      background-color: #3B4455;\n",
       "      fill: #D2E3FC;\n",
       "    }\n",
       "\n",
       "    [theme=dark] .colab-df-convert:hover {\n",
       "      background-color: #434B5C;\n",
       "      box-shadow: 0px 1px 3px 1px rgba(0, 0, 0, 0.15);\n",
       "      filter: drop-shadow(0px 1px 2px rgba(0, 0, 0, 0.3));\n",
       "      fill: #FFFFFF;\n",
       "    }\n",
       "  </style>\n",
       "\n",
       "      <script>\n",
       "        const buttonEl =\n",
       "          document.querySelector('#df-3f3e3799-7deb-4d5e-ba02-194da8323ac7 button.colab-df-convert');\n",
       "        buttonEl.style.display =\n",
       "          google.colab.kernel.accessAllowed ? 'block' : 'none';\n",
       "\n",
       "        async function convertToInteractive(key) {\n",
       "          const element = document.querySelector('#df-3f3e3799-7deb-4d5e-ba02-194da8323ac7');\n",
       "          const dataTable =\n",
       "            await google.colab.kernel.invokeFunction('convertToInteractive',\n",
       "                                                     [key], {});\n",
       "          if (!dataTable) return;\n",
       "\n",
       "          const docLinkHtml = 'Like what you see? Visit the ' +\n",
       "            '<a target=\"_blank\" href=https://colab.research.google.com/notebooks/data_table.ipynb>data table notebook</a>'\n",
       "            + ' to learn more about interactive tables.';\n",
       "          element.innerHTML = '';\n",
       "          dataTable['output_type'] = 'display_data';\n",
       "          await google.colab.output.renderOutput(dataTable, element);\n",
       "          const docLink = document.createElement('div');\n",
       "          docLink.innerHTML = docLinkHtml;\n",
       "          element.appendChild(docLink);\n",
       "        }\n",
       "      </script>\n",
       "    </div>\n",
       "  </div>\n",
       "  "
      ]
     },
     "metadata": {},
     "execution_count": 12
    }
   ]
  },
  {
   "cell_type": "code",
   "source": [
    "emotions_counter = Counter(train['label'])\n",
    "plt.bar(emotions_counter.keys(), emotions_counter.values())\n",
    "\n",
    "plt.title('Train dataset: Number of images for each label')\n",
    "plt.xlabel('Emotion')\n",
    "plt.ylabel('Number of images')\n",
    "\n",
    "plt.show()"
   ],
   "metadata": {
    "colab": {
     "base_uri": "https://localhost:8080/",
     "height": 472
    },
    "id": "8MPrkJlVwPih",
    "outputId": "a54d58ed-5fef-44cf-949a-a50c33ea428e"
   },
   "execution_count": null,
   "outputs": [
    {
     "output_type": "display_data",
     "data": {
      "text/plain": [
       "<Figure size 640x480 with 1 Axes>"
      ],
      "image/png": "[encoded data removed]"
     },
     "metadata": {}
    }
   ]
  },
  {
   "cell_type": "code",
   "source": [
    "emotions_counter = Counter(test['label'])\n",
    "plt.bar(emotions_counter.keys(), emotions_counter.values())\n",
    "\n",
    "plt.title('Test dataset: Number of images for each label')\n",
    "plt.xlabel('Emotion')\n",
    "plt.ylabel('Number of images')\n",
    "\n",
    "plt.show()"
   ],
   "metadata": {
    "colab": {
     "base_uri": "https://localhost:8080/",
     "height": 472
    },
    "id": "e1H4z-e9wY_k",
    "outputId": "66e866f6-6176-4f70-ae0e-b13a94c44979"
   },
   "execution_count": null,
   "outputs": [
    {
     "output_type": "display_data",
     "data": {
      "text/plain": [
       "<Figure size 640x480 with 1 Axes>"
      ],
      "image/png": "[encoded data removed]"
     },
     "metadata": {}
    }
   ]
  },
  {
   "cell_type": "code",
   "source": [
    "img = Image.open(train['image'][0])\n",
    "plt.imshow(img, cmap='gray');\n",
    "plt.title(train['label'][0])"
   ],
   "metadata": {
    "colab": {
     "base_uri": "https://localhost:8080/",
     "height": 470
    },
    "id": "pZJIwMMmxJZv",
    "outputId": "1b4db5ff-e4ce-4ce0-c413-50454239f85e"
   },
   "execution_count": null,
   "outputs": [
    {
     "output_type": "execute_result",
     "data": {
      "text/plain": [
       "Text(0.5, 1.0, 'angry')"
      ]
     },
     "metadata": {},
     "execution_count": 15
    },
    {
     "output_type": "display_data",
     "data": {
      "text/plain": [
       "<Figure size 640x480 with 1 Axes>"
      ],
      "image/png": "[encoded data removed]"
     },
     "metadata": {}
    }
   ]
  },
  {
   "cell_type": "markdown",
   "source": [
    "## Translate images"
   ],
   "metadata": {
    "id": "NCYMbDPmyZ6F"
   }
  },
  {
   "cell_type": "code",
   "source": [
    "def extract_features(images_paths):\n",
    "    images = list()\n",
    "\n",
    "    for image_path in images_paths:\n",
    "        image = load_img(image_path, grayscale=True)\n",
    "        images.append(np.array(image))\n",
    "\n",
    "    images = np.array(images)\n",
    "    images = images.reshape(len(images), 48, 48, 1)\n",
    "\n",
    "    return images"
   ],
   "metadata": {
    "id": "BtbRdJuHyto3"
   },
   "execution_count": 27,
   "outputs": []
  },
  {
   "cell_type": "code",
   "source": [
    "x_train = extract_features(train['image'])\n",
    "x_train = x_train / 255.0\n",
    "\n",
    "x_test = extract_features(test['image'])\n",
    "x_test = x_test / 255.0"
   ],
   "metadata": {
    "colab": {
     "base_uri": "https://localhost:8080/"
    },
    "id": "LQuaxNEOywFB",
    "outputId": "bcbc45b6-41eb-45c8-b3ea-828049dd9e4b"
   },
   "execution_count": 28,
   "outputs": [
    {
     "output_type": "stream",
     "name": "stderr",
     "text": [
      "/usr/local/lib/python3.10/dist-packages/keras/utils/image_utils.py:409: UserWarning: grayscale is deprecated. Please use color_mode = \"grayscale\"\n",
      "  warnings.warn(\n"
     ]
    }
   ]
  },
  {
   "cell_type": "code",
   "source": [
    "print(x_train[0])"
   ],
   "metadata": {
    "colab": {
     "base_uri": "https://localhost:8080/"
    },
    "id": "cpUV9KH-y8uJ",
    "outputId": "730839fa-c027-467c-97ec-e8f628365abf"
   },
   "execution_count": 29,
   "outputs": [
    {
     "output_type": "stream",
     "name": "stdout",
     "text": [
      "[[[0.02352941]\n",
      "  [0.03137255]\n",
      "  [0.02352941]\n",
      "  ...\n",
      "  [0.90588235]\n",
      "  [0.88627451]\n",
      "  [0.88627451]]\n",
      "\n",
      " [[0.02745098]\n",
      "  [0.03137255]\n",
      "  [0.03137255]\n",
      "  ...\n",
      "  [0.8745098 ]\n",
      "  [0.87843137]\n",
      "  [0.90196078]]\n",
      "\n",
      " [[0.02745098]\n",
      "  [0.02745098]\n",
      "  [0.03529412]\n",
      "  ...\n",
      "  [0.86666667]\n",
      "  [0.87843137]\n",
      "  [0.89411765]]\n",
      "\n",
      " ...\n",
      "\n",
      " [[0.03137255]\n",
      "  [0.03137255]\n",
      "  [0.03137255]\n",
      "  ...\n",
      "  [0.65098039]\n",
      "  [0.67843137]\n",
      "  [0.70196078]]\n",
      "\n",
      " [[0.03137255]\n",
      "  [0.03137255]\n",
      "  [0.03137255]\n",
      "  ...\n",
      "  [0.79215686]\n",
      "  [0.78431373]\n",
      "  [0.76862745]]\n",
      "\n",
      " [[0.02745098]\n",
      "  [0.02745098]\n",
      "  [0.03137255]\n",
      "  ...\n",
      "  [0.76862745]\n",
      "  [0.78039216]\n",
      "  [0.8       ]]]\n"
     ]
    }
   ]
  },
  {
   "cell_type": "code",
   "source": [
    "label_encoder = LabelEncoder()\n",
    "label_encoder.fit(train['label'])"
   ],
   "metadata": {
    "colab": {
     "base_uri": "https://localhost:8080/",
     "height": 74
    },
    "id": "O6hcMnK-16iF",
    "outputId": "5b1ca79b-9cbc-4e1e-fc9b-a232eb0d0abf"
   },
   "execution_count": 30,
   "outputs": [
    {
     "output_type": "execute_result",
     "data": {
      "text/plain": [
       "LabelEncoder()"
      ],
      "text/html": [
       "<style>#sk-container-id-1 {color: black;background-color: white;}#sk-container-id-1 pre{padding: 0;}#sk-container-id-1 div.sk-toggleable {background-color: white;}#sk-container-id-1 label.sk-toggleable__label {cursor: pointer;display: block;width: 100%;margin-bottom: 0;padding: 0.3em;box-sizing: border-box;text-align: center;}#sk-container-id-1 label.sk-toggleable__label-arrow:before {content: \"▸\";float: left;margin-right: 0.25em;color: #696969;}#sk-container-id-1 label.sk-toggleable__label-arrow:hover:before {color: black;}#sk-container-id-1 div.sk-estimator:hover label.sk-toggleable__label-arrow:before {color: black;}#sk-container-id-1 div.sk-toggleable__content {max-height: 0;max-width: 0;overflow: hidden;text-align: left;background-color: #f0f8ff;}#sk-container-id-1 div.sk-toggleable__content pre {margin: 0.2em;color: black;border-radius: 0.25em;background-color: #f0f8ff;}#sk-container-id-1 input.sk-toggleable__control:checked~div.sk-toggleable__content {max-height: 200px;max-width: 100%;overflow: auto;}#sk-container-id-1 input.sk-toggleable__control:checked~label.sk-toggleable__label-arrow:before {content: \"▾\";}#sk-container-id-1 div.sk-estimator input.sk-toggleable__control:checked~label.sk-toggleable__label {background-color: #d4ebff;}#sk-container-id-1 div.sk-label input.sk-toggleable__control:checked~label.sk-toggleable__label {background-color: #d4ebff;}#sk-container-id-1 input.sk-hidden--visually {border: 0;clip: rect(1px 1px 1px 1px);clip: rect(1px, 1px, 1px, 1px);height: 1px;margin: -1px;overflow: hidden;padding: 0;position: absolute;width: 1px;}#sk-container-id-1 div.sk-estimator {font-family: monospace;background-color: #f0f8ff;border: 1px dotted black;border-radius: 0.25em;box-sizing: border-box;margin-bottom: 0.5em;}#sk-container-id-1 div.sk-estimator:hover {background-color: #d4ebff;}#sk-container-id-1 div.sk-parallel-item::after {content: \"\";width: 100%;border-bottom: 1px solid gray;flex-grow: 1;}#sk-container-id-1 div.sk-label:hover label.sk-toggleable__label {background-color: #d4ebff;}#sk-container-id-1 div.sk-serial::before {content: \"\";position: absolute;border-left: 1px solid gray;box-sizing: border-box;top: 0;bottom: 0;left: 50%;z-index: 0;}#sk-container-id-1 div.sk-serial {display: flex;flex-direction: column;align-items: center;background-color: white;padding-right: 0.2em;padding-left: 0.2em;position: relative;}#sk-container-id-1 div.sk-item {position: relative;z-index: 1;}#sk-container-id-1 div.sk-parallel {display: flex;align-items: stretch;justify-content: center;background-color: white;position: relative;}#sk-container-id-1 div.sk-item::before, #sk-container-id-1 div.sk-parallel-item::before {content: \"\";position: absolute;border-left: 1px solid gray;box-sizing: border-box;top: 0;bottom: 0;left: 50%;z-index: -1;}#sk-container-id-1 div.sk-parallel-item {display: flex;flex-direction: column;z-index: 1;position: relative;background-color: white;}#sk-container-id-1 div.sk-parallel-item:first-child::after {align-self: flex-end;width: 50%;}#sk-container-id-1 div.sk-parallel-item:last-child::after {align-self: flex-start;width: 50%;}#sk-container-id-1 div.sk-parallel-item:only-child::after {width: 0;}#sk-container-id-1 div.sk-dashed-wrapped {border: 1px dashed gray;margin: 0 0.4em 0.5em 0.4em;box-sizing: border-box;padding-bottom: 0.4em;background-color: white;}#sk-container-id-1 div.sk-label label {font-family: monospace;font-weight: bold;display: inline-block;line-height: 1.2em;}#sk-container-id-1 div.sk-label-container {text-align: center;}#sk-container-id-1 div.sk-container {/* jupyter's `normalize.less` sets `[hidden] { display: none; }` but bootstrap.min.css set `[hidden] { display: none !important; }` so we also need the `!important` here to be able to override the default hidden behavior on the sphinx rendered scikit-learn.org. See: https://github.com/scikit-learn/scikit-learn/issues/21755 */display: inline-block !important;position: relative;}#sk-container-id-1 div.sk-text-repr-fallback {display: none;}</style><div id=\"sk-container-id-1\" class=\"sk-top-container\"><div class=\"sk-text-repr-fallback\"><pre>LabelEncoder()</pre><b>In a Jupyter environment, please rerun this cell to show the HTML representation or trust the notebook. <br />On GitHub, the HTML representation is unable to render, please try loading this page with nbviewer.org.</b></div><div class=\"sk-container\" hidden><div class=\"sk-item\"><div class=\"sk-estimator sk-toggleable\"><input class=\"sk-toggleable__control sk-hidden--visually\" id=\"sk-estimator-id-1\" type=\"checkbox\" checked><label for=\"sk-estimator-id-1\" class=\"sk-toggleable__label sk-toggleable__label-arrow\">LabelEncoder</label><div class=\"sk-toggleable__content\"><pre>LabelEncoder()</pre></div></div></div></div></div>"
      ]
     },
     "metadata": {},
     "execution_count": 30
    }
   ]
  },
  {
   "cell_type": "code",
   "source": [
    "y_train = label_encoder.transform(train['label'])\n",
    "y_train = to_categorical(y_train, num_classes=7)\n",
    "\n",
    "y_test = label_encoder.transform(test['label'])\n",
    "y_test = to_categorical(y_test, num_classes=7)"
   ],
   "metadata": {
    "id": "UqRxY7Ya4Q5r"
   },
   "execution_count": 31,
   "outputs": []
  },
  {
   "cell_type": "code",
   "source": [
    "y_train[0: 2]"
   ],
   "metadata": {
    "colab": {
     "base_uri": "https://localhost:8080/"
    },
    "id": "B8DsQqy92FbE",
    "outputId": "c984b668-f16b-4e3e-af39-300c4bc7ff01"
   },
   "execution_count": 44,
   "outputs": [
    {
     "output_type": "execute_result",
     "data": {
      "text/plain": [
       "array([[0., 0., 0., 0., 1., 0., 0.],\n",
       "       [0., 0., 0., 1., 0., 0., 0.]], dtype=float32)"
      ]
     },
     "metadata": {},
     "execution_count": 44
    }
   ]
  },
  {
   "cell_type": "markdown",
   "source": [
    "## Train model"
   ],
   "metadata": {
    "id": "NW5KiKcj5-8T"
   }
  },
  {
   "cell_type": "code",
   "source": [
    "def get_model():\n",
    "    model = Sequential()\n",
    "\n",
    "    model.add(Conv2D(128, kernel_size=(3, 3), activation='relu', input_shape=(48, 48, 1)))\n",
    "    model.add(MaxPooling2D(pool_size=(2, 2)))\n",
    "    model.add(Dropout(0.4))\n",
    "\n",
    "    model.add(Conv2D(256, kernel_size=(3, 3), activation='relu'))\n",
    "    model.add(MaxPooling2D(pool_size=(2, 2)))\n",
    "    model.add(Dropout(0.4))\n",
    "\n",
    "    model.add(Conv2D(512, kernel_size=(3, 3), activation='relu'))\n",
    "    model.add(MaxPooling2D(pool_size=(2, 2)))\n",
    "    model.add(Dropout(0.4))\n",
    "\n",
    "    model.add(Conv2D(512, kernel_size=(3, 3), activation='relu'))\n",
    "    model.add(MaxPooling2D(pool_size=(2, 2)))\n",
    "    model.add(Dropout(0.4))\n",
    "\n",
    "    model.add(Flatten())\n",
    "    model.add(Dense(512, activation='relu'))\n",
    "    model.add(Dropout(0.4))\n",
    "    model.add(Dense(256, activation='relu'))\n",
    "    model.add(Dropout(0.3))\n",
    "\n",
    "    model.add(Dense(7, activation='softmax'))\n",
    "\n",
    "    model.compile(optimizer='adam', loss='categorical_crossentropy', metrics='accuracy')\n",
    "\n",
    "    return model"
   ],
   "metadata": {
    "id": "9V19i35g6Ab3"
   },
   "execution_count": 42,
   "outputs": []
  },
  {
   "cell_type": "code",
   "source": [
    "model = get_model()\n",
    "predicted = model.fit(x=x_train, y=y_train, batch_size=128, epochs=50, validation_data=(x_test, y_test))"
   ],
   "metadata": {
    "colab": {
     "base_uri": "https://localhost:8080/"
    },
    "id": "78ruTEsd6QOg",
    "outputId": "28ff02ec-1957-40af-ab60-bafa7c929bf5"
   },
   "execution_count": 45,
   "outputs": [
    {
     "output_type": "stream",
     "name": "stdout",
     "text": [
      "Epoch 1/50\n",
      "225/225 [==============================] - 15s 56ms/step - loss: 1.8237 - accuracy: 0.2463 - val_loss: 1.8141 - val_accuracy: 0.2471\n",
      "Epoch 2/50\n",
      "225/225 [==============================] - 11s 51ms/step - loss: 1.8103 - accuracy: 0.2518 - val_loss: 1.7947 - val_accuracy: 0.2509\n",
      "Epoch 3/50\n",
      "225/225 [==============================] - 11s 50ms/step - loss: 1.7650 - accuracy: 0.2666 - val_loss: 1.7025 - val_accuracy: 0.3076\n",
      "Epoch 4/50\n",
      "225/225 [==============================] - 11s 51ms/step - loss: 1.6736 - accuracy: 0.3256 - val_loss: 1.5648 - val_accuracy: 0.3977\n",
      "Epoch 5/50\n",
      "225/225 [==============================] - 11s 51ms/step - loss: 1.5621 - accuracy: 0.3880 - val_loss: 1.4306 - val_accuracy: 0.4419\n",
      "Epoch 6/50\n",
      "225/225 [==============================] - 11s 51ms/step - loss: 1.4939 - accuracy: 0.4203 - val_loss: 1.3780 - val_accuracy: 0.4765\n",
      "Epoch 7/50\n",
      "225/225 [==============================] - 11s 51ms/step - loss: 1.4329 - accuracy: 0.4485 - val_loss: 1.3077 - val_accuracy: 0.4879\n",
      "Epoch 8/50\n",
      "225/225 [==============================] - 11s 51ms/step - loss: 1.3983 - accuracy: 0.4621 - val_loss: 1.2857 - val_accuracy: 0.5075\n",
      "Epoch 9/50\n",
      "225/225 [==============================] - 11s 50ms/step - loss: 1.3736 - accuracy: 0.4738 - val_loss: 1.2665 - val_accuracy: 0.5084\n",
      "Epoch 10/50\n",
      "225/225 [==============================] - 11s 50ms/step - loss: 1.3416 - accuracy: 0.4896 - val_loss: 1.2289 - val_accuracy: 0.5245\n",
      "Epoch 11/50\n",
      "225/225 [==============================] - 11s 50ms/step - loss: 1.3196 - accuracy: 0.4979 - val_loss: 1.2031 - val_accuracy: 0.5309\n",
      "Epoch 12/50\n",
      "225/225 [==============================] - 11s 50ms/step - loss: 1.3036 - accuracy: 0.4996 - val_loss: 1.1812 - val_accuracy: 0.5419\n",
      "Epoch 13/50\n",
      "225/225 [==============================] - 11s 51ms/step - loss: 1.2847 - accuracy: 0.5113 - val_loss: 1.1854 - val_accuracy: 0.5532\n",
      "Epoch 14/50\n",
      "225/225 [==============================] - 11s 51ms/step - loss: 1.2615 - accuracy: 0.5176 - val_loss: 1.1568 - val_accuracy: 0.5575\n",
      "Epoch 15/50\n",
      "225/225 [==============================] - 12s 53ms/step - loss: 1.2446 - accuracy: 0.5250 - val_loss: 1.1481 - val_accuracy: 0.5560\n",
      "Epoch 16/50\n",
      "225/225 [==============================] - 12s 53ms/step - loss: 1.2382 - accuracy: 0.5293 - val_loss: 1.1439 - val_accuracy: 0.5651\n",
      "Epoch 17/50\n",
      "225/225 [==============================] - 11s 50ms/step - loss: 1.2247 - accuracy: 0.5340 - val_loss: 1.1429 - val_accuracy: 0.5627\n",
      "Epoch 18/50\n",
      "225/225 [==============================] - 11s 51ms/step - loss: 1.2135 - accuracy: 0.5424 - val_loss: 1.1294 - val_accuracy: 0.5659\n",
      "Epoch 19/50\n",
      "225/225 [==============================] - 11s 51ms/step - loss: 1.2018 - accuracy: 0.5439 - val_loss: 1.1122 - val_accuracy: 0.5809\n",
      "Epoch 20/50\n",
      "225/225 [==============================] - 11s 50ms/step - loss: 1.1965 - accuracy: 0.5456 - val_loss: 1.1107 - val_accuracy: 0.5790\n",
      "Epoch 21/50\n",
      "225/225 [==============================] - 11s 50ms/step - loss: 1.1822 - accuracy: 0.5552 - val_loss: 1.1142 - val_accuracy: 0.5706\n",
      "Epoch 22/50\n",
      "225/225 [==============================] - 12s 53ms/step - loss: 1.1791 - accuracy: 0.5551 - val_loss: 1.1037 - val_accuracy: 0.5768\n",
      "Epoch 23/50\n",
      "225/225 [==============================] - 12s 54ms/step - loss: 1.1661 - accuracy: 0.5563 - val_loss: 1.1039 - val_accuracy: 0.5744\n",
      "Epoch 24/50\n",
      "225/225 [==============================] - 13s 58ms/step - loss: 1.1531 - accuracy: 0.5640 - val_loss: 1.1005 - val_accuracy: 0.5811\n",
      "Epoch 25/50\n",
      "225/225 [==============================] - 11s 50ms/step - loss: 1.1493 - accuracy: 0.5675 - val_loss: 1.0897 - val_accuracy: 0.5880\n",
      "Epoch 26/50\n",
      "225/225 [==============================] - 12s 51ms/step - loss: 1.1322 - accuracy: 0.5711 - val_loss: 1.0856 - val_accuracy: 0.5892\n",
      "Epoch 27/50\n",
      "225/225 [==============================] - 12s 51ms/step - loss: 1.1327 - accuracy: 0.5704 - val_loss: 1.0801 - val_accuracy: 0.5883\n",
      "Epoch 28/50\n",
      "225/225 [==============================] - 12s 52ms/step - loss: 1.1248 - accuracy: 0.5750 - val_loss: 1.0728 - val_accuracy: 0.5986\n",
      "Epoch 29/50\n",
      "225/225 [==============================] - 12s 51ms/step - loss: 1.1236 - accuracy: 0.5797 - val_loss: 1.0861 - val_accuracy: 0.5850\n",
      "Epoch 30/50\n",
      "225/225 [==============================] - 12s 55ms/step - loss: 1.1094 - accuracy: 0.5788 - val_loss: 1.0688 - val_accuracy: 0.5914\n",
      "Epoch 31/50\n",
      "225/225 [==============================] - 12s 52ms/step - loss: 1.1052 - accuracy: 0.5840 - val_loss: 1.0669 - val_accuracy: 0.5988\n",
      "Epoch 32/50\n",
      "225/225 [==============================] - 11s 50ms/step - loss: 1.0943 - accuracy: 0.5850 - val_loss: 1.0689 - val_accuracy: 0.5967\n",
      "Epoch 33/50\n",
      "225/225 [==============================] - 11s 50ms/step - loss: 1.0908 - accuracy: 0.5887 - val_loss: 1.0638 - val_accuracy: 0.5991\n",
      "Epoch 34/50\n",
      "225/225 [==============================] - 11s 51ms/step - loss: 1.0839 - accuracy: 0.5900 - val_loss: 1.0636 - val_accuracy: 0.5971\n",
      "Epoch 35/50\n",
      "225/225 [==============================] - 11s 51ms/step - loss: 1.0753 - accuracy: 0.5911 - val_loss: 1.0540 - val_accuracy: 0.6000\n",
      "Epoch 36/50\n",
      "225/225 [==============================] - 11s 51ms/step - loss: 1.0744 - accuracy: 0.5977 - val_loss: 1.0529 - val_accuracy: 0.6041\n",
      "Epoch 37/50\n",
      "225/225 [==============================] - 11s 51ms/step - loss: 1.0651 - accuracy: 0.6027 - val_loss: 1.0592 - val_accuracy: 0.6003\n",
      "Epoch 38/50\n",
      "225/225 [==============================] - 11s 51ms/step - loss: 1.0643 - accuracy: 0.5996 - val_loss: 1.0609 - val_accuracy: 0.5952\n",
      "Epoch 39/50\n",
      "225/225 [==============================] - 11s 51ms/step - loss: 1.0587 - accuracy: 0.6038 - val_loss: 1.0575 - val_accuracy: 0.6032\n",
      "Epoch 40/50\n",
      "225/225 [==============================] - 11s 51ms/step - loss: 1.0460 - accuracy: 0.6079 - val_loss: 1.0475 - val_accuracy: 0.6094\n",
      "Epoch 41/50\n",
      "225/225 [==============================] - 11s 51ms/step - loss: 1.0388 - accuracy: 0.6130 - val_loss: 1.0592 - val_accuracy: 0.6085\n",
      "Epoch 42/50\n",
      "225/225 [==============================] - 12s 52ms/step - loss: 1.0392 - accuracy: 0.6083 - val_loss: 1.0479 - val_accuracy: 0.6053\n",
      "Epoch 43/50\n",
      "225/225 [==============================] - 12s 53ms/step - loss: 1.0324 - accuracy: 0.6159 - val_loss: 1.0419 - val_accuracy: 0.6134\n",
      "Epoch 44/50\n",
      "225/225 [==============================] - 13s 59ms/step - loss: 1.0190 - accuracy: 0.6193 - val_loss: 1.0457 - val_accuracy: 0.6123\n",
      "Epoch 45/50\n",
      "225/225 [==============================] - 11s 51ms/step - loss: 1.0226 - accuracy: 0.6184 - val_loss: 1.0517 - val_accuracy: 0.6050\n",
      "Epoch 46/50\n",
      "225/225 [==============================] - 11s 51ms/step - loss: 1.0143 - accuracy: 0.6186 - val_loss: 1.0391 - val_accuracy: 0.6110\n",
      "Epoch 47/50\n",
      "225/225 [==============================] - 12s 53ms/step - loss: 1.0166 - accuracy: 0.6196 - val_loss: 1.0367 - val_accuracy: 0.6102\n",
      "Epoch 48/50\n",
      "225/225 [==============================] - 11s 51ms/step - loss: 1.0050 - accuracy: 0.6215 - val_loss: 1.0337 - val_accuracy: 0.6103\n",
      "Epoch 49/50\n",
      "225/225 [==============================] - 11s 51ms/step - loss: 0.9944 - accuracy: 0.6265 - val_loss: 1.0307 - val_accuracy: 0.6145\n",
      "Epoch 50/50\n",
      "225/225 [==============================] - 12s 54ms/step - loss: 0.9951 - accuracy: 0.6303 - val_loss: 1.0294 - val_accuracy: 0.6115\n"
     ]
    }
   ]
  },
  {
   "cell_type": "code",
   "source": [
    "from sklearn.model_selection import GridSearchCV\n",
    "from tensorflow.keras.wrappers.scikit_learn import KerasClassifier\n",
    "\n",
    "model = KerasClassifier(build_fn=get_model)\n",
    "\n",
    "params = {\n",
    "    'layers': [[128, 32], [128, 64, 32], [64, 32]],\n",
    "    'batch_size': [32, 64],\n",
    "    'epochs': [10, 20, 30]\n",
    "}\n",
    "\n",
    "# grid = GridSearchCV(estimator=model, param_grid=params, cv=3)\n",
    "# grid_result = grid.fit(x_train, y_train)"
   ],
   "metadata": {
    "id": "HiIL-FdJosk5"
   },
   "execution_count": null,
   "outputs": []
  },
  {
   "cell_type": "markdown",
   "source": [
    "## Test model"
   ],
   "metadata": {
    "id": "Y-JM-4ge8OZy"
   }
  },
  {
   "cell_type": "code",
   "source": [
    "accuracy = predicted.history['accuracy']\n",
    "val_accuracy = predicted.history['val_accuracy']\n",
    "epochs = range(len(accuracy))\n",
    "\n",
    "plt.plot(epochs, accuracy, 'b', label='Training accuracy')\n",
    "plt.plot(epochs, val_accuracy, 'r', label='Validation accuracy')\n",
    "plt.legend()\n",
    "\n",
    "plt.show()"
   ],
   "metadata": {
    "colab": {
     "base_uri": "https://localhost:8080/",
     "height": 430
    },
    "id": "P423LaLS771s",
    "outputId": "24e98248-1032-4403-e44d-5d5b6c39ca0e"
   },
   "execution_count": 46,
   "outputs": [
    {
     "output_type": "display_data",
     "data": {
      "text/plain": [
       "<Figure size 640x480 with 1 Axes>"
      ],
      "image/png": "[encoded data removed]"
     },
     "metadata": {}
    }
   ]
  },
  {
   "cell_type": "code",
   "source": [
    "def predict_random_image():\n",
    "    image_index = random.randint(0, len(test))\n",
    "\n",
    "    image = x_test[image_index]\n",
    "    expected_result = test['label'][image_index]\n",
    "\n",
    "    result = model.predict(image.reshape(1, 48, 48, 1))\n",
    "    best_label_index = result.argmax()\n",
    "    predicted_result = label_encoder.inverse_transform([best_label_index])[0]\n",
    "\n",
    "    print(f'Expected result: {expected_result}')\n",
    "    print(f'Predicted result: {predicted_result}')\n",
    "    plt.imshow(image.reshape(48, 48), cmap='gray');"
   ],
   "metadata": {
    "id": "LZaD9ttg8QaB"
   },
   "execution_count": 32,
   "outputs": []
  },
  {
   "cell_type": "code",
   "source": [
    "predict_random_image()"
   ],
   "metadata": {
    "colab": {
     "base_uri": "https://localhost:8080/",
     "height": 486
    },
    "id": "KkonsQn2-RO8",
    "outputId": "051223d2-a1ca-4c13-d431-e50e00c37406"
   },
   "execution_count": 34,
   "outputs": [
    {
     "output_type": "stream",
     "name": "stdout",
     "text": [
      "1/1 [==============================] - 0s 21ms/step\n",
      "Expected result: sad\n",
      "Predicted result: sad\n"
     ]
    },
    {
     "output_type": "display_data",
     "data": {
      "text/plain": [
       "<Figure size 640x480 with 1 Axes>"
      ],
      "image/png": "[encoded data removed]"
     },
     "metadata": {}
    }
   ]
  },
  {
   "cell_type": "markdown",
   "source": [
    "## Save the model"
   ],
   "metadata": {
    "id": "fMpWm8wVBpgq"
   }
  },
  {
   "cell_type": "code",
   "source": [
    "model.save(MODEL_OUTPUT_PATH)"
   ],
   "metadata": {
    "id": "0Bmx-WgzBPQN"
   },
   "execution_count": 47,
   "outputs": []
  },
  {
   "cell_type": "code",
   "source": [
    "from keras.models import load_model\n",
    "model = load_model(MODEL_OUTPUT_PATH)"
   ],
   "metadata": {
    "id": "hRETcYLZIxl6"
   },
   "execution_count": 5,
   "outputs": []
  },
  {
   "cell_type": "code",
   "source": [
    "IMAGE_PATH_TEST = '/content/drive/MyDrive/Colab Notebooks/Project/dataset/test_happy.jpg'\n",
    "image = Image.open(IMAGE_PATH_TEST)\n",
    "print(image)\n",
    "\n",
    "image = np.array(image)\n",
    "image = image / 255.0\n",
    "print(image)\n",
    "image = image.reshape(1, 48, 48, 1)\n",
    "\n",
    "\n",
    "\n",
    "result = model.predict(image)\n",
    "\n",
    "best_label_index = result.argmax()\n",
    "predicted_result = label_encoder.inverse_transform([best_label_index])[0]\n",
    "\n",
    "print(predicted_result)"
   ],
   "metadata": {
    "colab": {
     "base_uri": "https://localhost:8080/"
    },
    "id": "sU7kwqfzJlHw",
    "outputId": "52dc259a-fd59-477f-a040-d25d7fbcb68b"
   },
   "execution_count": 41,
   "outputs": [
    {
     "output_type": "stream",
     "name": "stdout",
     "text": [
      "<PIL.JpegImagePlugin.JpegImageFile image mode=L size=48x48 at 0x7F5B1249C1F0>\n",
      "[[0.54901961 0.55294118 0.54117647 ... 0.01176471 0.00784314 0.02352941]\n",
      " [0.55294118 0.54509804 0.54901961 ... 0.02745098 0.01960784 0.02352941]\n",
      " [0.56078431 0.54117647 0.55294118 ... 0.01960784 0.01568627 0.02745098]\n",
      " ...\n",
      " [0.54509804 0.55294118 0.54901961 ... 0.22352941 0.09411765 0.10980392]\n",
      " [0.53333333 0.55294118 0.55686275 ... 0.14901961 0.09411765 0.11372549]\n",
      " [0.51764706 0.54901961 0.56078431 ... 0.09803922 0.11764706 0.09803922]]\n",
      "1/1 [==============================] - 0s 19ms/step\n",
      "happy\n"
     ]
    }
   ]
  }
 ]
}